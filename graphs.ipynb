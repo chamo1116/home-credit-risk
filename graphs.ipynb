{
 "cells": [
  {
   "cell_type": "code",
   "execution_count": 1,
   "metadata": {},
   "outputs": [],
   "source": [
    "import numpy as np\n",
    "import pandas as pd\n",
    "import matplotlib.pyplot as plt"
   ]
  },
  {
   "cell_type": "code",
   "execution_count": 2,
   "metadata": {},
   "outputs": [],
   "source": [
    "dataset = pd.read_csv(open(\"./Dataset/application_train.csv\", \"r\"))"
   ]
  },
  {
   "cell_type": "code",
   "execution_count": 3,
   "metadata": {},
   "outputs": [
    {
     "name": "stdout",
     "output_type": "stream",
     "text": [
      "          SK_ID_CURR         TARGET   CNT_CHILDREN  AMT_INCOME_TOTAL  \\\n",
      "count  307511.000000  307511.000000  307511.000000      3.075110e+05   \n",
      "mean   278180.518577       0.080729       0.417052      1.687979e+05   \n",
      "std    102790.175348       0.272419       0.722121      2.371231e+05   \n",
      "min    100002.000000       0.000000       0.000000      2.565000e+04   \n",
      "25%    189145.500000       0.000000       0.000000      1.125000e+05   \n",
      "50%    278202.000000       0.000000       0.000000      1.471500e+05   \n",
      "75%    367142.500000       0.000000       1.000000      2.025000e+05   \n",
      "max    456255.000000       1.000000      19.000000      1.170000e+08   \n",
      "\n",
      "         AMT_CREDIT    AMT_ANNUITY  AMT_GOODS_PRICE  \\\n",
      "count  3.075110e+05  307499.000000     3.072330e+05   \n",
      "mean   5.990260e+05   27108.573909     5.383962e+05   \n",
      "std    4.024908e+05   14493.737315     3.694465e+05   \n",
      "min    4.500000e+04    1615.500000     4.050000e+04   \n",
      "25%    2.700000e+05   16524.000000     2.385000e+05   \n",
      "50%    5.135310e+05   24903.000000     4.500000e+05   \n",
      "75%    8.086500e+05   34596.000000     6.795000e+05   \n",
      "max    4.050000e+06  258025.500000     4.050000e+06   \n",
      "\n",
      "       REGION_POPULATION_RELATIVE     DAYS_BIRTH  DAYS_EMPLOYED  \\\n",
      "count               307511.000000  307511.000000  307511.000000   \n",
      "mean                     0.020868  -16036.995067   63815.045904   \n",
      "std                      0.013831    4363.988632  141275.766519   \n",
      "min                      0.000290  -25229.000000  -17912.000000   \n",
      "25%                      0.010006  -19682.000000   -2760.000000   \n",
      "50%                      0.018850  -15750.000000   -1213.000000   \n",
      "75%                      0.028663  -12413.000000    -289.000000   \n",
      "max                      0.072508   -7489.000000  365243.000000   \n",
      "\n",
      "                  ...              FLAG_DOCUMENT_18  FLAG_DOCUMENT_19  \\\n",
      "count             ...                 307511.000000     307511.000000   \n",
      "mean              ...                      0.008130          0.000595   \n",
      "std               ...                      0.089798          0.024387   \n",
      "min               ...                      0.000000          0.000000   \n",
      "25%               ...                      0.000000          0.000000   \n",
      "50%               ...                      0.000000          0.000000   \n",
      "75%               ...                      0.000000          0.000000   \n",
      "max               ...                      1.000000          1.000000   \n",
      "\n",
      "       FLAG_DOCUMENT_20  FLAG_DOCUMENT_21  AMT_REQ_CREDIT_BUREAU_HOUR  \\\n",
      "count     307511.000000     307511.000000               265992.000000   \n",
      "mean           0.000507          0.000335                    0.006402   \n",
      "std            0.022518          0.018299                    0.083849   \n",
      "min            0.000000          0.000000                    0.000000   \n",
      "25%            0.000000          0.000000                    0.000000   \n",
      "50%            0.000000          0.000000                    0.000000   \n",
      "75%            0.000000          0.000000                    0.000000   \n",
      "max            1.000000          1.000000                    4.000000   \n",
      "\n",
      "       AMT_REQ_CREDIT_BUREAU_DAY  AMT_REQ_CREDIT_BUREAU_WEEK  \\\n",
      "count              265992.000000               265992.000000   \n",
      "mean                    0.007000                    0.034362   \n",
      "std                     0.110757                    0.204685   \n",
      "min                     0.000000                    0.000000   \n",
      "25%                     0.000000                    0.000000   \n",
      "50%                     0.000000                    0.000000   \n",
      "75%                     0.000000                    0.000000   \n",
      "max                     9.000000                    8.000000   \n",
      "\n",
      "       AMT_REQ_CREDIT_BUREAU_MON  AMT_REQ_CREDIT_BUREAU_QRT  \\\n",
      "count              265992.000000              265992.000000   \n",
      "mean                    0.267395                   0.265474   \n",
      "std                     0.916002                   0.794056   \n",
      "min                     0.000000                   0.000000   \n",
      "25%                     0.000000                   0.000000   \n",
      "50%                     0.000000                   0.000000   \n",
      "75%                     0.000000                   0.000000   \n",
      "max                    27.000000                 261.000000   \n",
      "\n",
      "       AMT_REQ_CREDIT_BUREAU_YEAR  \n",
      "count               265992.000000  \n",
      "mean                     1.899974  \n",
      "std                      1.869295  \n",
      "min                      0.000000  \n",
      "25%                      0.000000  \n",
      "50%                      1.000000  \n",
      "75%                      3.000000  \n",
      "max                     25.000000  \n",
      "\n",
      "[8 rows x 106 columns]\n"
     ]
    }
   ],
   "source": [
    "print (dataset.describe())"
   ]
  },
  {
   "cell_type": "code",
   "execution_count": 4,
   "metadata": {},
   "outputs": [
    {
     "name": "stdout",
     "output_type": "stream",
     "text": [
      "TARGET\n",
      "0    282686\n",
      "1     24825\n",
      "dtype: int64\n"
     ]
    }
   ],
   "source": [
    "print (dataset.groupby('TARGET').size())"
   ]
  },
  {
   "cell_type": "code",
   "execution_count": 5,
   "metadata": {},
   "outputs": [],
   "source": [
    "datamin = dataset.head(1000)"
   ]
  },
  {
   "cell_type": "code",
   "execution_count": 6,
   "metadata": {},
   "outputs": [
    {
     "data": {
      "image/png": "[encoded data removed]",
      "text/plain": [
       "<Figure size 432x288 with 1 Axes>"
      ]
     },
     "metadata": {
      "needs_background": "light"
     },
     "output_type": "display_data"
    }
   ],
   "source": [
    "#histograms CODE_GENDER \n",
    "datamin[\"CODE_GENDER\"].hist()\n",
    "plt.show()"
   ]
  },
  {
   "cell_type": "code",
   "execution_count": 7,
   "metadata": {},
   "outputs": [
    {
     "data": {
      "image/png": "[encoded data removed]",
      "text/plain": [
       "<Figure size 432x288 with 1 Axes>"
      ]
     },
     "metadata": {
      "needs_background": "light"
     },
     "output_type": "display_data"
    }
   ],
   "source": [
    "#histograms OCCUPATION_TYPE \n",
    "datamin[\"DAYS_EMPLOYED\"].hist()\n",
    "plt.show()"
   ]
  },
  {
   "cell_type": "code",
   "execution_count": 8,
   "metadata": {},
   "outputs": [
    {
     "name": "stdout",
     "output_type": "stream",
     "text": [
      "OCCUPATION_TYPE\n",
      "Accountants               9813\n",
      "Cleaning staff            4653\n",
      "Cooking staff             5946\n",
      "Core staff               27570\n",
      "Drivers                  18603\n",
      "HR staff                   563\n",
      "High skill tech staff    11380\n",
      "IT staff                   526\n",
      "Laborers                 55186\n",
      "Low-skill Laborers        2093\n",
      "Managers                 21371\n",
      "Medicine staff            8537\n",
      "Private service staff     2652\n",
      "Realty agents              751\n",
      "Sales staff              32102\n",
      "Secretaries               1305\n",
      "Security staff            6721\n",
      "Waiters/barmen staff      1348\n",
      "dtype: int64\n"
     ]
    }
   ],
   "source": [
    "print (dataset.groupby('OCCUPATION_TYPE').size())"
   ]
  },
  {
   "cell_type": "code",
   "execution_count": 9,
   "metadata": {},
   "outputs": [
    {
     "name": "stdout",
     "output_type": "stream",
     "text": [
      "OCCUPATION_TYPE        CODE_GENDER\n",
      "Accountants            F               9529\n",
      "                       M                284\n",
      "Cleaning staff         F               4314\n",
      "                       M                339\n",
      "Cooking staff          F               5385\n",
      "                       M                561\n",
      "Core staff             F              21781\n",
      "                       M               5788\n",
      "                       XNA                1\n",
      "Drivers                F                925\n",
      "                       M              17678\n",
      "HR staff               F                524\n",
      "                       M                 39\n",
      "High skill tech staff  F               7350\n",
      "                       M               4030\n",
      "IT staff               F                158\n",
      "                       M                368\n",
      "Laborers               F              23139\n",
      "                       M              32047\n",
      "Low-skill Laborers     F                320\n",
      "                       M               1772\n",
      "                       XNA                1\n",
      "Managers               F              11593\n",
      "                       M               9778\n",
      "Medicine staff         F               8297\n",
      "                       M                240\n",
      "Private service staff  F               2538\n",
      "                       M                114\n",
      "Realty agents          F                689\n",
      "                       M                 62\n",
      "Sales staff            F              28273\n",
      "                       M               3829\n",
      "Secretaries            F               1247\n",
      "                       M                 58\n",
      "Security staff         F               2038\n",
      "                       M               4683\n",
      "Waiters/barmen staff   F               1182\n",
      "                       M                166\n",
      "dtype: int64\n"
     ]
    }
   ],
   "source": [
    "print (dataset.groupby(['OCCUPATION_TYPE', 'CODE_GENDER']).size())"
   ]
  },
  {
   "cell_type": "code",
   "execution_count": 10,
   "metadata": {},
   "outputs": [
    {
     "data": {
      "image/png": "[encoded data removed]",
      "text/plain": [
       "<Figure size 432x288 with 1 Axes>"
      ]
     },
     "metadata": {
      "needs_background": "light"
     },
     "output_type": "display_data"
    }
   ],
   "source": [
    "datamin[\"EXT_SOURCE_3\"].hist()\n",
    "plt.show()"
   ]
  },
  {
   "cell_type": "code",
   "execution_count": 12,
   "metadata": {},
   "outputs": [
    {
     "name": "stdout",
     "output_type": "stream",
     "text": [
      "EXT_SOURCE_3  EXT_SOURCE_1  EXT_SOURCE_2\n",
      "0.000527      0.026644      0.254370        1\n",
      "              0.059164      0.562714        1\n",
      "              0.075599      0.525865        1\n",
      "              0.079205      0.189325        1\n",
      "              0.081021      0.518373        1\n",
      "              0.102464      0.443212        1\n",
      "              0.103775      0.466094        1\n",
      "              0.106190      0.325968        1\n",
      "              0.121774      0.247274        1\n",
      "              0.121870      0.689303        1\n",
      "              0.127012      0.595786        1\n",
      "              0.127465      0.072302        1\n",
      "              0.140984      0.598690        1\n",
      "              0.141858      0.713784        1\n",
      "              0.143746      0.477521        1\n",
      "              0.143781      0.668093        1\n",
      "              0.157247      0.468772        1\n",
      "              0.158489      0.554449        1\n",
      "              0.161336      0.377922        1\n",
      "              0.166789      0.294983        1\n",
      "              0.168230      0.473741        1\n",
      "              0.178802      0.474930        1\n",
      "              0.182129      0.198786        1\n",
      "              0.188308      0.353535        1\n",
      "              0.206907      0.438361        1\n",
      "              0.207493      0.495328        1\n",
      "              0.215350      0.278857        1\n",
      "              0.215528      0.753290        1\n",
      "              0.215919      0.762189        1\n",
      "              0.219602      0.539646        1\n",
      "                                           ..\n",
      "0.878740      0.525359      0.530600        1\n",
      "              0.650256      0.529483        1\n",
      "              0.859687      0.106032        1\n",
      "0.879506      0.242356      0.481554        1\n",
      "0.880268      0.496034      0.433188        1\n",
      "              0.573249      0.792628        1\n",
      "              0.587715      0.380362        1\n",
      "              0.631193      0.258695        1\n",
      "              0.647269      0.793335        1\n",
      "              0.679845      0.718818        1\n",
      "              0.698116      0.709715        1\n",
      "              0.705225      0.643203        1\n",
      "              0.721695      0.766200        1\n",
      "0.881027      0.258357      0.532010        1\n",
      "              0.287601      0.125094        1\n",
      "              0.443463      0.631218        1\n",
      "0.882530      0.125682      0.498930        1\n",
      "              0.422811      0.469763        1\n",
      "              0.442649      0.621624        1\n",
      "              0.445294      0.759671        1\n",
      "              0.448799      0.724214        1\n",
      "              0.448972      0.594880        1\n",
      "              0.503295      0.449778        1\n",
      "              0.539870      0.648954        1\n",
      "              0.740473      0.688483        1\n",
      "              0.869876      0.185412        1\n",
      "0.885488      0.291084      0.358568        1\n",
      "              0.760856      0.698015        1\n",
      "              0.888944      0.785819        1\n",
      "0.887664      0.588358      0.693558        1\n",
      "Length: 109589, dtype: int64\n"
     ]
    }
   ],
   "source": [
    "print (dataset.groupby(['EXT_SOURCE_3', 'EXT_SOURCE_1', 'EXT_SOURCE_2']).size())"
   ]
  },
  {
   "cell_type": "code",
   "execution_count": null,
   "metadata": {},
   "outputs": [],
   "source": []
  }
 ],
 "metadata": {
  "kernelspec": {
   "display_name": "Python 3",
   "language": "python",
   "name": "python3"
  },
  "language_info": {
   "codemirror_mode": {
    "name": "ipython",
    "version": 3
   },
   "file_extension": ".py",
   "mimetype": "text/x-python",
   "name": "python",
   "nbconvert_exporter": "python",
   "pygments_lexer": "ipython3",
   "version": "3.5.6"
  }
 },
 "nbformat": 4,
 "nbformat_minor": 2
}
